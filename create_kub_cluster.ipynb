{
  "cells": [
    {
      "cell_type": "code",
      "execution_count": null,
      "metadata": {
        "id": "bqYStjE8Ijc5"
      },
      "outputs": [],
      "source": [
        "%%capture\n",
        "!pip install google-cloud-container google-auth google-auth-oauthlib google-auth-httplib2 google-cloud-compute\n"
      ]
    },
    {
      "cell_type": "code",
      "execution_count": null,
      "metadata": {
        "colab": {
          "base_uri": "https://localhost:8080/"
        },
        "id": "1O1UwOprIrd0",
        "outputId": "e241f034-7099-428f-e279-52a70462db1b"
      },
      "outputs": [
        {
          "name": "stdout",
          "output_type": "stream",
          "text": [
            "Go to the following link in your browser, and complete the sign-in prompts:\n",
            "\n",
            "    https://accounts.google.com/o/oauth2/auth?response_type=code&client_id=764086051850-6qr4p6gpi6hn506pt8ejuq83di341hur.apps.googleusercontent.com&redirect_uri=https%3A%2F%2Fsdk.cloud.google.com%2Fapplicationdefaultauthcode.html&scope=openid+https%3A%2F%2Fwww.googleapis.com%2Fauth%2Fuserinfo.email+https%3A%2F%2Fwww.googleapis.com%2Fauth%2Fcloud-platform+https%3A%2F%2Fwww.googleapis.com%2Fauth%2Fsqlservice.login&state=6wMqMd5jbEvCCivLHy3EIZ6q4t69hm&prompt=consent&token_usage=remote&access_type=offline&code_challenge=Q8qziRPlhfWwVF6YPXg69AP4nJuFfA9BakAsEmHBaac&code_challenge_method=S256\n",
            "\n",
            "Once finished, enter the verification code provided in your browser: \n",
            "\n",
            "Command killed by keyboard interrupt\n",
            "\n",
            "^C\n"
          ]
        }
      ],
      "source": [
        "!gcloud auth application-default login"
      ]
    },
    {
      "cell_type": "code",
      "execution_count": null,
      "metadata": {
        "id": "dp2ED2djEKtx"
      },
      "outputs": [],
      "source": [
        "import time\n",
        "from google.cloud import container_v1, compute_v1\n",
        "from google.auth import exceptions\n",
        "from google.auth.transport.requests import Request\n",
        "import concurrent.futures"
      ]
    },
    {
      "cell_type": "code",
      "execution_count": null,
      "metadata": {
        "id": "UBGh0B5AEN-y"
      },
      "outputs": [],
      "source": [
        "project_id = 'YOUR_ID'  \n",
        "cluster_name = 'YOUR_CLUSTER_NAME'\n",
        "machine_type = 'n1-standard-4'\n",
        "num_nodes = 1\n",
        "accelerator_type = 'nvidia-tesla-t4'\n",
        "accelerator_count = 1"
      ]
    },
    {
      "cell_type": "code",
      "execution_count": null,
      "metadata": {
        "id": "PblgZ0z2EF6H"
      },
      "outputs": [],
      "source": [
        "client = container_v1.ClusterManagerClient()\n",
        "\n",
        "compute_client = compute_v1.ZonesClient()\n",
        "\n",
        "def get_available_zones():\n",
        "    zones = []\n",
        "    for zone in compute_client.list(project=project_id):\n",
        "        if zone.status == \"UP\":\n",
        "            zones.append(zone.name)\n",
        "    return zones\n",
        "\n",
        "def create_cluster_in_zone(zone):\n",
        "    cluster = container_v1.Cluster(\n",
        "        name=cluster_name,\n",
        "        initial_node_count=num_nodes,\n",
        "        node_config=container_v1.NodeConfig(\n",
        "            machine_type=machine_type,\n",
        "            oauth_scopes=[\n",
        "                \"https://www.googleapis.com/auth/cloud-platform\"\n",
        "            ],\n",
        "            accelerators=[container_v1.AcceleratorConfig(\n",
        "                accelerator_type=accelerator_type,\n",
        "                accelerator_count=accelerator_count\n",
        "            )],\n",
        "        )\n",
        "    )\n",
        "\n",
        "    create_request = container_v1.CreateClusterRequest(\n",
        "        project_id=project_id,\n",
        "        zone=zone,\n",
        "        cluster=cluster\n",
        "    )\n",
        "\n",
        "    try:\n",
        "        operation = client.create_cluster(create_request)\n",
        "        print(f\"Cluster creation started in zone {zone}, operation name: {operation.name}\")\n",
        "\n",
        "        while True:\n",
        "            op_result = client.get_operation(\n",
        "                project_id=project_id,\n",
        "                zone=zone,\n",
        "                operation_id=operation.name\n",
        "            )\n",
        "            if op_result.status == container_v1.Operation.Status.DONE:\n",
        "                if op_result.error:\n",
        "                    print(f\"Error occurred during cluster creation in zone {zone}: {op_result.error}\")\n",
        "                    return (zone, False, f\"Error: {op_result.error}\")\n",
        "                else:\n",
        "                    print(f\"Cluster {cluster_name} created successfully in zone {zone}!\")\n",
        "                    return (zone, True, \"Success\")\n",
        "            else:\n",
        "                print(f\"Cluster creation in {zone} still in progress...\")\n",
        "                time.sleep(10)\n",
        "\n",
        "    except exceptions.GoogleAuthError as auth_error:\n",
        "        print(f\"Authentication error in {zone}: {auth_error}\")\n",
        "        return (zone, False, f\"Auth Error: {auth_error}\")\n",
        "    except Exception as e:\n",
        "        print(f\"Failed to create cluster in zone {zone}: {str(e)}\")\n",
        "        return (zone, False, f\"Error: {str(e)}\")\n",
        "\n",
        "def cleanup_other_attempts(successful_zone, all_zones):\n",
        "    for zone in all_zones:\n",
        "        if zone == successful_zone:\n",
        "            continue\n",
        "\n",
        "        try:\n",
        "            operations = client.list_operations(\n",
        "                project_id=project_id,\n",
        "                zone=zone\n",
        "            )\n",
        "\n",
        "            for operation in operations.operations:\n",
        "                if cluster_name in operation.target_link and operation.status != container_v1.Operation.Status.DONE:\n",
        "                    print(f\"Canceling cluster creation in zone {zone}\")\n",
        "                    client.cancel_operation(\n",
        "                        project_id=project_id,\n",
        "                        zone=zone,\n",
        "                        operation_id=operation.name\n",
        "                    )\n",
        "        except Exception as e:\n",
        "            print(f\"Error while cleaning up operations in zone {zone}: {str(e)}\")\n",
        "\n",
        "def try_create_cluster_parallel(max_workers=50):\n",
        "    zones = get_available_zones()\n",
        "    if not zones:\n",
        "        print(\"No available zones found.\")\n",
        "        return\n",
        "\n",
        "    print(f\"Attempting to create cluster in parallel across {len(zones)} zones\")\n",
        "\n",
        "    zones_to_try = zones[:max_workers]\n",
        "\n",
        "    with concurrent.futures.ThreadPoolExecutor(max_workers=max_workers) as executor:\n",
        "        future_to_zone = {executor.submit(create_cluster_in_zone, zone): zone for zone in zones_to_try}\n",
        "\n",
        "        for future in concurrent.futures.as_completed(future_to_zone):\n",
        "            zone = future_to_zone[future]\n",
        "            try:\n",
        "                zone_result, success, message = future.result()\n",
        "                if success:\n",
        "                    print(f\"Successfully created cluster in {zone_result}. Canceling other attempts...\")\n",
        "                    cleanup_other_attempts(zone_result, zones_to_try)\n",
        "                    return zone_result\n",
        "            except Exception as e:\n",
        "                print(f\"Exception in zone {zone}: {str(e)}\")\n",
        "\n",
        "    print(\"All parallel attempts to create the cluster have failed.\")\n",
        "    return None\n",
        "\n",
        "if __name__ == \"__main__\":\n",
        "    successful_zone = try_create_cluster_parallel()\n",
        "    if successful_zone:\n",
        "        print(f\"Cluster creation completed successfully in zone {successful_zone}\")\n",
        "    else:\n",
        "        print(\"Cluster creation failed in all attempted zones\")"
      ]
    }
  ],
  "metadata": {
    "colab": {
      "provenance": []
    },
    "kernelspec": {
      "display_name": "Python 3",
      "name": "python3"
    },
    "language_info": {
      "name": "python"
    }
  },
  "nbformat": 4,
  "nbformat_minor": 0
}
